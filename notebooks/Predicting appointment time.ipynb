{
 "cells": [
  {
   "cell_type": "code",
   "execution_count": 3,
   "metadata": {
    "collapsed": true
   },
   "outputs": [],
   "source": [
    "%matplotlib inline\n",
    "import pandas as pd\n",
    "import seaborn as sns\n",
    "from collections import Counter\n",
    "from pmareport import pmareport\n",
    "import numpy as np\n",
    "import matplotlib.pyplot as plt\n",
    "import calendar"
   ]
  },
  {
   "cell_type": "code",
   "execution_count": 4,
   "metadata": {
    "collapsed": true
   },
   "outputs": [],
   "source": [
    "from sklearn import ensemble\n",
    "from sklearn import cross_validation\n",
    "from sklearn import metrics\n",
    "from sklearn import linear_model"
   ]
  },
  {
   "cell_type": "code",
   "execution_count": 5,
   "metadata": {
    "collapsed": false
   },
   "outputs": [],
   "source": [
    "clinic = pmareport.Clinic()\n",
    "df = clinic.df"
   ]
  },
  {
   "cell_type": "code",
   "execution_count": 6,
   "metadata": {
    "collapsed": false
   },
   "outputs": [
    {
     "data": {
      "text/html": [
       "<div>\n",
       "<table border=\"1\" class=\"dataframe\">\n",
       "  <thead>\n",
       "    <tr style=\"text-align: right;\">\n",
       "      <th></th>\n",
       "      <th>PATIENT_ID</th>\n",
       "      <th>PATIENT_CONDITION</th>\n",
       "      <th>INSURANCE_TYPE</th>\n",
       "      <th>AGE</th>\n",
       "      <th>SEX</th>\n",
       "      <th>PROVIDER_NAME</th>\n",
       "      <th>date</th>\n",
       "      <th>sched</th>\n",
       "      <th>start</th>\n",
       "      <th>end</th>\n",
       "      <th>...</th>\n",
       "      <th>month</th>\n",
       "      <th>num_appts</th>\n",
       "      <th>appt_pos_overall</th>\n",
       "      <th>appt_pos_doctor</th>\n",
       "      <th>cond</th>\n",
       "      <th>schedd</th>\n",
       "      <th>startd</th>\n",
       "      <th>endd</th>\n",
       "      <th>arrived</th>\n",
       "      <th>since_prev_sched</th>\n",
       "    </tr>\n",
       "  </thead>\n",
       "  <tbody>\n",
       "    <tr>\n",
       "      <th>0</th>\n",
       "      <td>4591553</td>\n",
       "      <td>Uncommon Cold</td>\n",
       "      <td>BlueSword/BlueDiamond</td>\n",
       "      <td>31</td>\n",
       "      <td>M</td>\n",
       "      <td>L. Jedermann</td>\n",
       "      <td>2005-01-03</td>\n",
       "      <td>1900-01-01 07:59:00</td>\n",
       "      <td>1900-01-01 08:07:00</td>\n",
       "      <td>1900-01-01 08:22:00</td>\n",
       "      <td>...</td>\n",
       "      <td>1</td>\n",
       "      <td>16</td>\n",
       "      <td>0</td>\n",
       "      <td>0</td>\n",
       "      <td>uc</td>\n",
       "      <td>479</td>\n",
       "      <td>487</td>\n",
       "      <td>502</td>\n",
       "      <td>475</td>\n",
       "      <td>NaN</td>\n",
       "    </tr>\n",
       "    <tr>\n",
       "      <th>1</th>\n",
       "      <td>4607440</td>\n",
       "      <td>TV Personality Disorder</td>\n",
       "      <td>Medifix</td>\n",
       "      <td>48</td>\n",
       "      <td>F</td>\n",
       "      <td>I. Petrov</td>\n",
       "      <td>2005-01-03</td>\n",
       "      <td>1900-01-01 08:15:00</td>\n",
       "      <td>1900-01-01 08:18:00</td>\n",
       "      <td>1900-01-01 08:53:00</td>\n",
       "      <td>...</td>\n",
       "      <td>1</td>\n",
       "      <td>16</td>\n",
       "      <td>1</td>\n",
       "      <td>0</td>\n",
       "      <td>tvp</td>\n",
       "      <td>495</td>\n",
       "      <td>498</td>\n",
       "      <td>533</td>\n",
       "      <td>495</td>\n",
       "      <td>NaN</td>\n",
       "    </tr>\n",
       "    <tr>\n",
       "      <th>2</th>\n",
       "      <td>4590430</td>\n",
       "      <td>TV Personality Disorder</td>\n",
       "      <td>Medifix</td>\n",
       "      <td>42</td>\n",
       "      <td>M</td>\n",
       "      <td>E. Medelsvensson</td>\n",
       "      <td>2005-01-03</td>\n",
       "      <td>1900-01-01 08:30:00</td>\n",
       "      <td>1900-01-01 08:42:00</td>\n",
       "      <td>1900-01-01 09:17:00</td>\n",
       "      <td>...</td>\n",
       "      <td>1</td>\n",
       "      <td>16</td>\n",
       "      <td>2</td>\n",
       "      <td>0</td>\n",
       "      <td>tvp</td>\n",
       "      <td>510</td>\n",
       "      <td>522</td>\n",
       "      <td>557</td>\n",
       "      <td>506</td>\n",
       "      <td>NaN</td>\n",
       "    </tr>\n",
       "    <tr>\n",
       "      <th>3</th>\n",
       "      <td>4619481</td>\n",
       "      <td>Saturday Night Fever</td>\n",
       "      <td>Self Insured</td>\n",
       "      <td>22</td>\n",
       "      <td>M</td>\n",
       "      <td>J. Smith</td>\n",
       "      <td>2005-01-03</td>\n",
       "      <td>1900-01-01 09:00:00</td>\n",
       "      <td>1900-01-01 09:11:00</td>\n",
       "      <td>1900-01-01 09:39:00</td>\n",
       "      <td>...</td>\n",
       "      <td>1</td>\n",
       "      <td>16</td>\n",
       "      <td>3</td>\n",
       "      <td>0</td>\n",
       "      <td>snf</td>\n",
       "      <td>540</td>\n",
       "      <td>551</td>\n",
       "      <td>579</td>\n",
       "      <td>543</td>\n",
       "      <td>NaN</td>\n",
       "    </tr>\n",
       "    <tr>\n",
       "      <th>4</th>\n",
       "      <td>4610862</td>\n",
       "      <td>Uncommon Cold</td>\n",
       "      <td>Self Insured</td>\n",
       "      <td>32</td>\n",
       "      <td>M</td>\n",
       "      <td>L. Jedermann</td>\n",
       "      <td>2005-01-03</td>\n",
       "      <td>1900-01-01 10:00:00</td>\n",
       "      <td>1900-01-01 10:00:00</td>\n",
       "      <td>1900-01-01 10:16:00</td>\n",
       "      <td>...</td>\n",
       "      <td>1</td>\n",
       "      <td>16</td>\n",
       "      <td>4</td>\n",
       "      <td>1</td>\n",
       "      <td>uc</td>\n",
       "      <td>600</td>\n",
       "      <td>600</td>\n",
       "      <td>616</td>\n",
       "      <td>596</td>\n",
       "      <td>121</td>\n",
       "    </tr>\n",
       "  </tbody>\n",
       "</table>\n",
       "<p>5 rows × 24 columns</p>\n",
       "</div>"
      ],
      "text/plain": [
       "   PATIENT_ID        PATIENT_CONDITION         INSURANCE_TYPE  AGE SEX  \\\n",
       "0     4591553            Uncommon Cold  BlueSword/BlueDiamond   31   M   \n",
       "1     4607440  TV Personality Disorder                Medifix   48   F   \n",
       "2     4590430  TV Personality Disorder                Medifix   42   M   \n",
       "3     4619481     Saturday Night Fever           Self Insured   22   M   \n",
       "4     4610862            Uncommon Cold           Self Insured   32   M   \n",
       "\n",
       "      PROVIDER_NAME       date               sched               start  \\\n",
       "0      L. Jedermann 2005-01-03 1900-01-01 07:59:00 1900-01-01 08:07:00   \n",
       "1         I. Petrov 2005-01-03 1900-01-01 08:15:00 1900-01-01 08:18:00   \n",
       "2  E. Medelsvensson 2005-01-03 1900-01-01 08:30:00 1900-01-01 08:42:00   \n",
       "3          J. Smith 2005-01-03 1900-01-01 09:00:00 1900-01-01 09:11:00   \n",
       "4      L. Jedermann 2005-01-03 1900-01-01 10:00:00 1900-01-01 10:00:00   \n",
       "\n",
       "                  end        ...        month  num_appts  appt_pos_overall  \\\n",
       "0 1900-01-01 08:22:00        ...            1         16                 0   \n",
       "1 1900-01-01 08:53:00        ...            1         16                 1   \n",
       "2 1900-01-01 09:17:00        ...            1         16                 2   \n",
       "3 1900-01-01 09:39:00        ...            1         16                 3   \n",
       "4 1900-01-01 10:16:00        ...            1         16                 4   \n",
       "\n",
       "   appt_pos_doctor  cond  schedd  startd  endd arrived  since_prev_sched  \n",
       "0                0    uc     479     487   502     475               NaN  \n",
       "1                0   tvp     495     498   533     495               NaN  \n",
       "2                0   tvp     510     522   557     506               NaN  \n",
       "3                0   snf     540     551   579     543               NaN  \n",
       "4                1    uc     600     600   616     596               121  \n",
       "\n",
       "[5 rows x 24 columns]"
      ]
     },
     "execution_count": 6,
     "metadata": {},
     "output_type": "execute_result"
    }
   ],
   "source": [
    "df.head()"
   ]
  },
  {
   "cell_type": "code",
   "execution_count": 7,
   "metadata": {
    "collapsed": false
   },
   "outputs": [
    {
     "name": "stdout",
     "output_type": "stream",
     "text": [
      "Condition: snf\n",
      "\tmin appt time: 13.0\n",
      "\tnum appts less: 287\n",
      "Condition: tvp\n",
      "\tmin appt time: 29.0\n",
      "\tnum appts less: 181\n",
      "Condition: uc\n",
      "\tmin appt time: 10.0\n",
      "\tnum appts less: 95\n",
      "563\n"
     ]
    }
   ],
   "source": [
    "# Get the min appointment times and the number of appointments scheduled for less\n",
    "min_appt_times = df.groupby('cond').appt_time.min()\n",
    "s = 0\n",
    "for cond in min_appt_times.index:\n",
    "    min_appt_time = min_appt_times[cond]\n",
    "    data = df[df.cond == cond]\n",
    "    num_appts = len(data[data.since_prev_sched < min_appt_time])\n",
    "    print 'Condition: {}\\n\\tmin appt time: {}\\n\\tnum appts less: {}'.format(cond, min_appt_time, num_appts)\n",
    "    s += num_appts\n",
    "print s"
   ]
  },
  {
   "cell_type": "code",
   "execution_count": 9,
   "metadata": {
    "collapsed": false
   },
   "outputs": [
    {
     "data": {
      "text/plain": [
       "(242, 7)"
      ]
     },
     "execution_count": 9,
     "metadata": {},
     "output_type": "execute_result"
    }
   ],
   "source": [
    "# Get the number of appointments that were double- or triple-booked\n",
    "df_doc_date_sched = df.groupby(['PROVIDER_NAME', 'date', 'schedd'])\n",
    "df_doc_date_sched_cnt = df_doc_date_sched.count()\n",
    "double_booked = df_doc_date_sched_cnt[df_doc_date_sched_cnt.PATIENT_ID == 2]\n",
    "triple_booked = df_doc_date_sched_cnt[df_doc_date_sched_cnt.PATIENT_ID == 3]\n",
    "len(double_booked), len(triple_booked)"
   ]
  },
  {
   "cell_type": "code",
   "execution_count": 10,
   "metadata": {
    "collapsed": false
   },
   "outputs": [],
   "source": [
    "# Turn the categorical variables into ints for decision trees and one hot encoding \n",
    "def make_int(nm):\n",
    "    categories = list(set(df[nm]))\n",
    "    df[nm+'i'] = df[nm].apply(lambda x : categories.index(x))\n",
    "for i in ['PATIENT_CONDITION', 'SEX', 'INSURANCE_TYPE', 'PROVIDER_NAME']:\n",
    "    make_int(i)"
   ]
  },
  {
   "cell_type": "code",
   "execution_count": 27,
   "metadata": {
    "collapsed": false
   },
   "outputs": [],
   "source": [
    "# Make the dataset to go into the model\n",
    "feat = ['AGE', 'PATIENT_CONDITIONi']\n",
    "data = df[feat]\n",
    "\n",
    "# Train/test split the dataset\n",
    "train, test = cross_validation.train_test_split(df, test_size=0.1) "
   ]
  },
  {
   "cell_type": "code",
   "execution_count": 28,
   "metadata": {
    "collapsed": false
   },
   "outputs": [],
   "source": [
    "Xtrain, ytrain = train[feat], train.appt_time\n",
    "Xtest, ytest = test[feat], test.appt_time"
   ]
  },
  {
   "cell_type": "code",
   "execution_count": 51,
   "metadata": {
    "collapsed": true
   },
   "outputs": [],
   "source": [
    "# CV split the dataset\n",
    "cv = cross_validation.KFold(len(train), n_folds = 10)"
   ]
  },
  {
   "cell_type": "code",
   "execution_count": 73,
   "metadata": {
    "collapsed": true
   },
   "outputs": [],
   "source": [
    "from sklearn.tree import DecisionTreeRegressor"
   ]
  },
  {
   "cell_type": "code",
   "execution_count": 81,
   "metadata": {
    "collapsed": false
   },
   "outputs": [],
   "source": [
    "# model = ensemble.RandomForestRegressor()\n",
    "model = DecisionTreeRegressor(max_depth=3)"
   ]
  },
  {
   "cell_type": "code",
   "execution_count": 82,
   "metadata": {
    "collapsed": false
   },
   "outputs": [
    {
     "name": "stdout",
     "output_type": "stream",
     "text": [
      "[93.736501079913609, 96.112311015118792, 93.722943722943725, 95.67099567099568, 94.805194805194802, 94.805194805194802, 95.238095238095227, 96.320346320346317, 94.588744588744589, 95.238095238095227] 95.0238422485\n"
     ]
    }
   ],
   "source": [
    "msel = []\n",
    "for train, test in cv:\n",
    "    cvXtrain = Xtrain.iloc[train]\n",
    "    cvXtest = Xtrain.iloc[test]\n",
    "    cvytrain = ytrain.iloc[train]\n",
    "    cvytest = ytrain.iloc[test]\n",
    "    model.fit(cvXtrain, cvytrain)\n",
    "    pred = model.predict(cvXtest)\n",
    "    mse = percent_within(y_true=cvytest, y_pred=pred, thresh=5)\n",
    "    msel.append(mse)\n",
    "print msel, np.mean(msel)"
   ]
  },
  {
   "cell_type": "code",
   "execution_count": 83,
   "metadata": {
    "collapsed": false
   },
   "outputs": [
    {
     "data": {
      "text/plain": [
       "95.27145359019265"
      ]
     },
     "execution_count": 83,
     "metadata": {},
     "output_type": "execute_result"
    }
   ],
   "source": [
    "model.fit(Xtrain, ytrain)\n",
    "pred2 = model.predict(Xtest)\n",
    "percent_within(y_true=ytest, y_pred=pred2, thresh=5)"
   ]
  },
  {
   "cell_type": "code",
   "execution_count": 48,
   "metadata": {
    "collapsed": true
   },
   "outputs": [],
   "source": [
    "def percent_within(y_true, y_pred, thresh=5):\n",
    "    return np.sum(np.abs(y_true - y_pred) < thresh)/float(len(y_true))*100"
   ]
  },
  {
   "cell_type": "code",
   "execution_count": 84,
   "metadata": {
    "collapsed": false
   },
   "outputs": [
    {
     "data": {
      "text/plain": [
       "DecisionTreeRegressor(criterion='mse', max_depth=3, max_features=None,\n",
       "           max_leaf_nodes=None, min_samples_leaf=1, min_samples_split=2,\n",
       "           min_weight_fraction_leaf=0.0, random_state=None,\n",
       "           splitter='best')"
      ]
     },
     "execution_count": 84,
     "metadata": {},
     "output_type": "execute_result"
    }
   ],
   "source": [
    "model"
   ]
  },
  {
   "cell_type": "code",
   "execution_count": 90,
   "metadata": {
    "collapsed": false
   },
   "outputs": [
    {
     "data": {
      "text/plain": [
       "<seaborn.axisgrid.FacetGrid at 0x7fd19e765f10>"
      ]
     },
     "execution_count": 90,
     "metadata": {},
     "output_type": "execute_result"
    },
    {
     "data": {
      "image/png": "[encoded data removed]",
      "text/plain": [
       "<matplotlib.figure.Figure at 0x7fd19e765950>"
      ]
     },
     "metadata": {},
     "output_type": "display_data"
    }
   ],
   "source": [
    "clinic.make_scatter()"
   ]
  },
  {
   "cell_type": "code",
   "execution_count": 108,
   "metadata": {
    "collapsed": false
   },
   "outputs": [],
   "source": [
    "def make_scatter(\n",
    "        df=None,\n",
    "        hue='PATIENT_CONDITION',\n",
    "        size=4,\n",
    "        xvar='AGE',\n",
    "        yvar='appt_time',\n",
    "        file_name=None\n",
    "        ):\n",
    "    g = sns.FacetGrid(data=df, hue=hue, size=size)\n",
    "    g = g.map(plt.scatter, xvar, yvar, edgecolor='w')\n",
    "    g.add_legend(fontsize=10, markerscale=2)\n",
    "    plt.title('Appointment duration vs age by condition')\n",
    "    plt.ylabel('min')\n",
    "    plt.xlabel('')\n",
    "    if file_name:\n",
    "        g.savefig(file_name, bbox='tight', dpi=300)\n",
    "    else:\n",
    "        return g"
   ]
  },
  {
   "cell_type": "code",
   "execution_count": 109,
   "metadata": {
    "collapsed": false
   },
   "outputs": [
    {
     "data": {
      "image/png": "[encoded data removed]",
      "text/plain": [
       "<matplotlib.figure.Figure at 0x7fd19e58dd50>"
      ]
     },
     "metadata": {},
     "output_type": "display_data"
    }
   ],
   "source": [
    "make_scatter(df, file_name='age_appt_cond.png')"
   ]
  },
  {
   "cell_type": "code",
   "execution_count": 110,
   "metadata": {
    "collapsed": false
   },
   "outputs": [
    {
     "data": {
      "text/plain": [
       "Counter({16: 2,\n",
       "         17: 9,\n",
       "         18: 24,\n",
       "         19: 46,\n",
       "         20: 86,\n",
       "         21: 151,\n",
       "         22: 152,\n",
       "         23: 177,\n",
       "         24: 227,\n",
       "         25: 201,\n",
       "         26: 225,\n",
       "         27: 243,\n",
       "         28: 238,\n",
       "         29: 227,\n",
       "         30: 230,\n",
       "         31: 246,\n",
       "         32: 233,\n",
       "         33: 218,\n",
       "         34: 181,\n",
       "         35: 153,\n",
       "         36: 106,\n",
       "         37: 118,\n",
       "         38: 93,\n",
       "         39: 78,\n",
       "         40: 70,\n",
       "         41: 97,\n",
       "         42: 731,\n",
       "         43: 69,\n",
       "         44: 69,\n",
       "         45: 56,\n",
       "         46: 51,\n",
       "         47: 47,\n",
       "         48: 40,\n",
       "         49: 47,\n",
       "         50: 39,\n",
       "         51: 36,\n",
       "         52: 43,\n",
       "         53: 34,\n",
       "         54: 37,\n",
       "         55: 43,\n",
       "         56: 33,\n",
       "         57: 47,\n",
       "         58: 39,\n",
       "         59: 35,\n",
       "         60: 31,\n",
       "         61: 24,\n",
       "         62: 33,\n",
       "         63: 41,\n",
       "         64: 35,\n",
       "         65: 22,\n",
       "         66: 26,\n",
       "         67: 20,\n",
       "         68: 21,\n",
       "         69: 22,\n",
       "         70: 15,\n",
       "         71: 13,\n",
       "         72: 14,\n",
       "         73: 12,\n",
       "         74: 14,\n",
       "         75: 8,\n",
       "         76: 4,\n",
       "         77: 5,\n",
       "         78: 3,\n",
       "         79: 2,\n",
       "         80: 5,\n",
       "         81: 2,\n",
       "         82: 4,\n",
       "         83: 2,\n",
       "         84: 1})"
      ]
     },
     "execution_count": 110,
     "metadata": {},
     "output_type": "execute_result"
    }
   ],
   "source": [
    "Counter(df.AGE)"
   ]
  },
  {
   "cell_type": "code",
   "execution_count": 111,
   "metadata": {
    "collapsed": false
   },
   "outputs": [
    {
     "data": {
      "text/plain": [
       "2.9715447154471546"
      ]
     },
     "execution_count": 111,
     "metadata": {},
     "output_type": "execute_result"
    }
   ],
   "source": [
    "731/246.0"
   ]
  },
  {
   "cell_type": "code",
   "execution_count": 112,
   "metadata": {
    "collapsed": false
   },
   "outputs": [
    {
     "data": {
      "text/plain": [
       "PROVIDER_NAME     AGE\n",
       "E. Medelsvensson  42     653\n",
       "I. Petrov         30       1\n",
       "                  32       2\n",
       "                  34       1\n",
       "                  36       3\n",
       "                  37       1\n",
       "                  38       1\n",
       "                  39       3\n",
       "                  41       2\n",
       "                  42       4\n",
       "                  43       3\n",
       "                  44       6\n",
       "                  45       4\n",
       "                  46      10\n",
       "                  47       4\n",
       "                  48      12\n",
       "                  49       9\n",
       "                  50      14\n",
       "                  51      10\n",
       "                  52      14\n",
       "                  53      14\n",
       "                  54      13\n",
       "                  55       9\n",
       "                  56       9\n",
       "                  57      16\n",
       "                  58      14\n",
       "                  59       7\n",
       "                  60       6\n",
       "                  61      10\n",
       "                  62       7\n",
       "                        ... \n",
       "N. Fulano         55      32\n",
       "                  56      23\n",
       "                  57      31\n",
       "                  58      24\n",
       "                  59      28\n",
       "                  60      24\n",
       "                  61      14\n",
       "                  62      26\n",
       "                  63      28\n",
       "                  64      24\n",
       "                  65      11\n",
       "                  66      17\n",
       "                  67      10\n",
       "                  68      13\n",
       "                  69      12\n",
       "                  70       7\n",
       "                  71       8\n",
       "                  72      10\n",
       "                  73       7\n",
       "                  74      10\n",
       "                  75       5\n",
       "                  76       3\n",
       "                  77       3\n",
       "                  78       3\n",
       "                  79       1\n",
       "                  80       3\n",
       "                  81       1\n",
       "                  82       3\n",
       "                  83       1\n",
       "                  84       1\n",
       "Name: PATIENT_ID, dtype: int64"
      ]
     },
     "execution_count": 112,
     "metadata": {},
     "output_type": "execute_result"
    }
   ],
   "source": [
    "df[df.cond == 'tvp'].groupby(['PROVIDER_NAME', 'AGE']).count().PATIENT_ID"
   ]
  },
  {
   "cell_type": "code",
   "execution_count": 113,
   "metadata": {
    "collapsed": false
   },
   "outputs": [
    {
     "data": {
      "text/plain": [
       "0.893296853625171"
      ]
     },
     "execution_count": 113,
     "metadata": {},
     "output_type": "execute_result"
    }
   ],
   "source": [
    "653/731.0"
   ]
  },
  {
   "cell_type": "code",
   "execution_count": null,
   "metadata": {
    "collapsed": true
   },
   "outputs": [],
   "source": []
  }
 ],
 "metadata": {
  "kernelspec": {
   "display_name": "Python 2",
   "language": "python",
   "name": "python2"
  },
  "language_info": {
   "codemirror_mode": {
    "name": "ipython",
    "version": 2
   },
   "file_extension": ".py",
   "mimetype": "text/x-python",
   "name": "python",
   "nbconvert_exporter": "python",
   "pygments_lexer": "ipython2",
   "version": "2.7.6"
  }
 },
 "nbformat": 4,
 "nbformat_minor": 0
}
